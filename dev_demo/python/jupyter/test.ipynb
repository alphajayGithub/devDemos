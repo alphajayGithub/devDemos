{
 "cells": [
  {
   "cell_type": "code",
   "execution_count": 24,
   "metadata": {},
   "outputs": [
    {
     "data": {
      "text/plain": [
       "['__module__',\n",
       " '__dict__',\n",
       " '__weakref__',\n",
       " '__doc__',\n",
       " '__repr__',\n",
       " '__hash__',\n",
       " '__str__',\n",
       " '__getattribute__',\n",
       " '__setattr__',\n",
       " '__delattr__',\n",
       " '__lt__',\n",
       " '__le__',\n",
       " '__eq__',\n",
       " '__ne__',\n",
       " '__gt__',\n",
       " '__ge__',\n",
       " '__init__',\n",
       " '__new__',\n",
       " '__reduce_ex__',\n",
       " '__reduce__',\n",
       " '__subclasshook__',\n",
       " '__init_subclass__',\n",
       " '__format__',\n",
       " '__sizeof__',\n",
       " '__dir__',\n",
       " '__class__']"
      ]
     },
     "execution_count": 24,
     "metadata": {},
     "output_type": "execute_result"
    }
   ],
   "source": [
    "class Alpha():\n",
    "    pass\n",
    "\n",
    "obj=Alpha()\n",
    "obj.__dir__()\n"
   ]
  },
  {
   "cell_type": "code",
   "execution_count": null,
   "metadata": {},
   "outputs": [],
   "source": [
    "def score_mean(lst):\n",
    "    lst.sort()\n",
    "    lst2=lst[1:-1]\n",
    "    return round((sum(lst2)/len(lst2)),1)\n",
    "\n",
    "lst=[9.1, 9.0,8.1, 9.7, 19,8.2, 8.6,9.8]\n",
    "score_mean(lst) # 9.1\n",
    "\n",
    "for i in range(1,10):\n",
    "    for j in range(1,i+1):\n",
    "        print('%d*%d=%d'%(j,i,j*i),end='\\t')\n",
    "    print()\n",
    "\n",
    "    "
   ]
  },
  {
   "cell_type": "code",
   "execution_count": null,
   "metadata": {},
   "outputs": [],
   "source": [
    "x = set('runoob')\n",
    "y = set('google')\n",
    "print(x, y)        # 去重\n",
    "print(x&y)         # 交集\n",
    "print(x|y)         # 并集\n",
    "print(x-y)         # 差集\n"
   ]
  }
 ],
 "metadata": {
  "interpreter": {
   "hash": "b52e89ad1dbf775b7418c3f83c93d498b39ea6f3822128d74bd54601251426d2"
  },
  "kernelspec": {
   "display_name": "Python 3.6.8 64-bit ('sphinx': venv)",
   "name": "python3"
  },
  "language_info": {
   "codemirror_mode": {
    "name": "ipython",
    "version": 3
   },
   "file_extension": ".py",
   "mimetype": "text/x-python",
   "name": "python",
   "nbconvert_exporter": "python",
   "pygments_lexer": "ipython3",
   "version": "3.6.8"
  },
  "orig_nbformat": 4
 },
 "nbformat": 4,
 "nbformat_minor": 2
}
