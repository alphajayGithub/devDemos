{
 "cells": [
  {
   "cell_type": "code",
   "execution_count": 16,
   "metadata": {},
   "outputs": [
    {
     "name": "stdout",
     "output_type": "stream",
     "text": [
      "{'b', 'r', 'n', 'o', 'u'} {'o', 'l', 'g', 'e'}\n",
      "{'o'}\n",
      "{'b', 'g', 'n', 'r', 'o', 'u', 'l', 'e'}\n",
      "{'n', 'r', 'b', 'u'}\n"
     ]
    }
   ],
   "source": [
    "x = set('runoob')\n",
    "y = set('google')\n",
    "print(x, y)        # 去重\n",
    "print(x&y)         # 交集\n",
    "print(x|y)         # 并集\n",
    "print(x-y)         # 差集\n"
   ]
  }
 ],
 "metadata": {
  "interpreter": {
   "hash": "b52e89ad1dbf775b7418c3f83c93d498b39ea6f3822128d74bd54601251426d2"
  },
  "kernelspec": {
   "display_name": "Python 3.6.8 64-bit ('sphinx': venv)",
   "name": "python3"
  },
  "language_info": {
   "codemirror_mode": {
    "name": "ipython",
    "version": 3
   },
   "file_extension": ".py",
   "mimetype": "text/x-python",
   "name": "python",
   "nbconvert_exporter": "python",
   "pygments_lexer": "ipython3",
   "version": "3.6.8"
  },
  "orig_nbformat": 4
 },
 "nbformat": 4,
 "nbformat_minor": 2
}
